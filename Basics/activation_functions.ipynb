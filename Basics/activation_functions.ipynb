{
 "cells": [
  {
   "cell_type": "markdown",
   "id": "2a60416c-427d-4342-ba5d-80348bd96a58",
   "metadata": {},
   "source": [
    "# Sigmoid"
   ]
  },
  {
   "cell_type": "code",
   "execution_count": 1,
   "id": "b666f07c-4262-4a03-9904-d1d9efeb6f71",
   "metadata": {},
   "outputs": [],
   "source": [
    "import math\n",
    "\n",
    "def sigmoid(x):\n",
    "  return 1 / (1 + math.exp(-x))"
   ]
  },
  {
   "cell_type": "code",
   "execution_count": 2,
   "id": "37d42e86-8bf6-4a99-8c9b-c3ab38c38a14",
   "metadata": {},
   "outputs": [
    {
     "data": {
      "text/plain": [
       "0.9999546021312976"
      ]
     },
     "execution_count": 2,
     "metadata": {},
     "output_type": "execute_result"
    }
   ],
   "source": [
    "sigmoid(10)"
   ]
  },
  {
   "cell_type": "code",
   "execution_count": 3,
   "id": "287f6dc2-386a-4811-9b3d-fb04e92f74b1",
   "metadata": {},
   "outputs": [
    {
     "data": {
      "text/plain": [
       "4.5397868702434395e-05"
      ]
     },
     "execution_count": 3,
     "metadata": {},
     "output_type": "execute_result"
    }
   ],
   "source": [
    "sigmoid(-10)"
   ]
  },
  {
   "cell_type": "markdown",
   "id": "6465539c-254d-4f9b-8b95-c86f88d098ff",
   "metadata": {},
   "source": [
    "# tanh"
   ]
  },
  {
   "cell_type": "code",
   "execution_count": 4,
   "id": "5519eede-9277-4129-8f15-7eca2030ce10",
   "metadata": {},
   "outputs": [],
   "source": [
    "def tanh(x):\n",
    "  return (math.exp(x) - math.exp(-x)) / (math.exp(x) + math.exp(-x))"
   ]
  },
  {
   "cell_type": "code",
   "execution_count": 5,
   "id": "bd8bbbc5-f2fd-436f-aebe-c43ec795b4cb",
   "metadata": {},
   "outputs": [
    {
     "data": {
      "text/plain": [
       "1.0"
      ]
     },
     "execution_count": 5,
     "metadata": {},
     "output_type": "execute_result"
    }
   ],
   "source": [
    "tanh(70)"
   ]
  },
  {
   "cell_type": "code",
   "execution_count": 7,
   "id": "3a412cae-0faa-4822-a4ac-95ce6a856a95",
   "metadata": {},
   "outputs": [
    {
     "data": {
      "text/plain": [
       "-1.0"
      ]
     },
     "execution_count": 7,
     "metadata": {},
     "output_type": "execute_result"
    }
   ],
   "source": [
    "tanh(-65)"
   ]
  },
  {
   "cell_type": "code",
   "execution_count": 8,
   "id": "7a60e296-361c-4390-a16d-a8b6b8e0d791",
   "metadata": {},
   "outputs": [
    {
     "data": {
      "text/plain": [
       "0.999909204262595"
      ]
     },
     "execution_count": 8,
     "metadata": {},
     "output_type": "execute_result"
    }
   ],
   "source": [
    "tanh(5)"
   ]
  },
  {
   "cell_type": "markdown",
   "id": "e424b877-7bd1-4294-9ce8-01785cd3434a",
   "metadata": {},
   "source": [
    "# ReLU"
   ]
  },
  {
   "cell_type": "code",
   "execution_count": 9,
   "id": "5d40a408-2249-437c-9081-8f689a3e5fdd",
   "metadata": {},
   "outputs": [],
   "source": [
    "def relu(x):\n",
    "    return max(0,x)"
   ]
  },
  {
   "cell_type": "code",
   "execution_count": 10,
   "id": "50f39336-a468-493f-90c1-2eb1408f1e18",
   "metadata": {},
   "outputs": [
    {
     "data": {
      "text/plain": [
       "0"
      ]
     },
     "execution_count": 10,
     "metadata": {},
     "output_type": "execute_result"
    }
   ],
   "source": [
    "relu(-10)"
   ]
  },
  {
   "cell_type": "code",
   "execution_count": 11,
   "id": "d4702d5b-5306-49fc-8655-2b53c0197b73",
   "metadata": {},
   "outputs": [
    {
     "data": {
      "text/plain": [
       "5"
      ]
     },
     "execution_count": 11,
     "metadata": {},
     "output_type": "execute_result"
    }
   ],
   "source": [
    "relu(5)"
   ]
  },
  {
   "cell_type": "markdown",
   "id": "3acf58cd-86cd-4034-ba60-3dbd05126a80",
   "metadata": {},
   "source": [
    "# Leaky ReLU"
   ]
  },
  {
   "cell_type": "code",
   "execution_count": 12,
   "id": "c0b98866-a08b-4740-8c23-45886737dea6",
   "metadata": {},
   "outputs": [],
   "source": [
    "def leaky_relu(x):\n",
    "    return max(0.1*x,x)"
   ]
  },
  {
   "cell_type": "code",
   "execution_count": 14,
   "id": "f7561fed-d434-4168-b9f7-6878d465e5be",
   "metadata": {},
   "outputs": [
    {
     "data": {
      "text/plain": [
       "-1.9000000000000001"
      ]
     },
     "execution_count": 14,
     "metadata": {},
     "output_type": "execute_result"
    }
   ],
   "source": [
    "leaky_relu(-19)"
   ]
  },
  {
   "cell_type": "code",
   "execution_count": 15,
   "id": "300f1ece-b550-4a09-8583-cd4ba06e8e6d",
   "metadata": {},
   "outputs": [
    {
     "data": {
      "text/plain": [
       "1"
      ]
     },
     "execution_count": 15,
     "metadata": {},
     "output_type": "execute_result"
    }
   ],
   "source": [
    "leaky_relu(1)"
   ]
  }
 ],
 "metadata": {
  "kernelspec": {
   "display_name": "Python 3 (ipykernel)",
   "language": "python",
   "name": "python3"
  },
  "language_info": {
   "codemirror_mode": {
    "name": "ipython",
    "version": 3
   },
   "file_extension": ".py",
   "mimetype": "text/x-python",
   "name": "python",
   "nbconvert_exporter": "python",
   "pygments_lexer": "ipython3",
   "version": "3.12.7"
  }
 },
 "nbformat": 4,
 "nbformat_minor": 5
}
