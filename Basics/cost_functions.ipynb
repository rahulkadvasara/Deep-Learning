{
 "cells": [
  {
   "cell_type": "code",
   "execution_count": 16,
   "id": "032ccf4e-6589-4ca1-90fe-198ea045707d",
   "metadata": {},
   "outputs": [],
   "source": [
    "import numpy as np\n",
    "y_predicted = np.array([1,1,0,0,1])\n",
    "y_true = np.array([0.30,0.7,1,0,0.5])"
   ]
  },
  {
   "cell_type": "markdown",
   "id": "b1493c36-7e42-4602-851b-4402e6b7a2a7",
   "metadata": {},
   "source": [
    "# Implement Mean Absolute Error"
   ]
  },
  {
   "cell_type": "code",
   "execution_count": 3,
   "id": "95afc0a3-a0df-4da6-b74b-9ddb9796b6ca",
   "metadata": {},
   "outputs": [],
   "source": [
    "def mae(a,b):\n",
    "    t=0\n",
    "    for i,j in zip(a,b):\n",
    "        t+=abs(i-j)\n",
    "    print(\"Total Error: \",t)\n",
    "    mae = t/len(a)\n",
    "    print(\"MAE: \",mae)\n",
    "    return mae"
   ]
  },
  {
   "cell_type": "code",
   "execution_count": 4,
   "id": "62a2b2f0-b8a7-4f93-beaa-34d04ad3c2b7",
   "metadata": {},
   "outputs": [
    {
     "name": "stdout",
     "output_type": "stream",
     "text": [
      "Total Error:  2.5\n",
      "MAE:  0.5\n"
     ]
    },
    {
     "data": {
      "text/plain": [
       "0.5"
      ]
     },
     "execution_count": 4,
     "metadata": {},
     "output_type": "execute_result"
    }
   ],
   "source": [
    "mae(y_predicted,y_true)"
   ]
  },
  {
   "cell_type": "code",
   "execution_count": 12,
   "id": "b3c1506b-3bd4-464b-bfb8-fb34262e70a0",
   "metadata": {},
   "outputs": [
    {
     "data": {
      "text/plain": [
       "array([0.7, 0.3, 1. , 0. , 0.5])"
      ]
     },
     "execution_count": 12,
     "metadata": {},
     "output_type": "execute_result"
    }
   ],
   "source": [
    "np.abs(y_predicted-y_true)"
   ]
  },
  {
   "cell_type": "code",
   "execution_count": 13,
   "id": "fcbd9711-aa95-4870-a0c2-f8e20eda5f3f",
   "metadata": {},
   "outputs": [
    {
     "data": {
      "text/plain": [
       "0.5"
      ]
     },
     "execution_count": 13,
     "metadata": {},
     "output_type": "execute_result"
    }
   ],
   "source": [
    "np.mean(np.abs(y_predicted-y_true))"
   ]
  },
  {
   "cell_type": "code",
   "execution_count": 14,
   "id": "8fabfc4e-7104-4a89-89ba-5d3404091a14",
   "metadata": {},
   "outputs": [],
   "source": [
    "def mae_np(y_predicted, y_true):\n",
    "    return np.mean(np.abs(y_predicted-y_true))"
   ]
  },
  {
   "cell_type": "code",
   "execution_count": 15,
   "id": "5e66b71a-13a6-4455-99ab-be63dae5bd0b",
   "metadata": {},
   "outputs": [],
   "source": [
    "def mae_np(y_predicted, y_true):\n",
    "    return np.mean(np.abs(y_predicted-y_true))"
   ]
  },
  {
   "cell_type": "markdown",
   "id": "ebb476b6-7ada-45e4-a8a0-9b18621e2951",
   "metadata": {},
   "source": [
    "# MSE"
   ]
  },
  {
   "cell_type": "code",
   "execution_count": 18,
   "id": "bdedebce-9e17-4731-9c84-86966730f1f7",
   "metadata": {},
   "outputs": [],
   "source": [
    "def mse(a,b):\n",
    "    t=0\n",
    "    for i,j in zip(a,b):\n",
    "        t+=(i-j)**2\n",
    "    print(\"Total Error: \",t)\n",
    "    mae = t/len(a)\n",
    "    print(\"MAE: \",mae)\n",
    "    return mae"
   ]
  },
  {
   "cell_type": "code",
   "execution_count": 19,
   "id": "f0fe1e8f-99c2-4fc4-a08e-7ec8bfc3be49",
   "metadata": {},
   "outputs": [
    {
     "name": "stdout",
     "output_type": "stream",
     "text": [
      "Total Error:  1.83\n",
      "MAE:  0.366\n"
     ]
    },
    {
     "data": {
      "text/plain": [
       "0.366"
      ]
     },
     "execution_count": 19,
     "metadata": {},
     "output_type": "execute_result"
    }
   ],
   "source": [
    "mse(y_predicted,y_true)"
   ]
  },
  {
   "cell_type": "code",
   "execution_count": 33,
   "id": "8b2f7534-6779-4a33-b23c-6dae204fb12f",
   "metadata": {},
   "outputs": [],
   "source": [
    "def mse_np(a,b):\n",
    "    return np.mean(np.square(a-b))"
   ]
  },
  {
   "cell_type": "code",
   "execution_count": 34,
   "id": "7be30254-2849-4d64-9df7-a362501498da",
   "metadata": {},
   "outputs": [
    {
     "data": {
      "text/plain": [
       "0.366"
      ]
     },
     "execution_count": 34,
     "metadata": {},
     "output_type": "execute_result"
    }
   ],
   "source": [
    "mse_np(y_predicted,y_true)"
   ]
  },
  {
   "cell_type": "markdown",
   "id": "16e6350e-982e-4e80-b291-ad8be6addd7d",
   "metadata": {},
   "source": [
    "# Implement Log Loss or Binary Cross Entropy"
   ]
  },
  {
   "cell_type": "code",
   "execution_count": 22,
   "id": "684c2841-8502-4183-8b9c-d3131c281e57",
   "metadata": {},
   "outputs": [
    {
     "data": {
      "text/plain": [
       "array([-34.53877639])"
      ]
     },
     "execution_count": 22,
     "metadata": {},
     "output_type": "execute_result"
    }
   ],
   "source": [
    "epsilon = 1e-15\n",
    "np.log([1e-15])"
   ]
  },
  {
   "cell_type": "code",
   "execution_count": 23,
   "id": "fd7aaaa3-8dd0-4c90-944a-ab62a01300ba",
   "metadata": {},
   "outputs": [
    {
     "data": {
      "text/plain": [
       "array([1, 1, 0, 0, 1])"
      ]
     },
     "execution_count": 23,
     "metadata": {},
     "output_type": "execute_result"
    }
   ],
   "source": [
    "y_predicted"
   ]
  },
  {
   "cell_type": "code",
   "execution_count": 24,
   "id": "1921d423-9b89-4431-9508-11562a07b0d5",
   "metadata": {},
   "outputs": [
    {
     "data": {
      "text/plain": [
       "[1, 1, 1e-15, 1e-15, 1]"
      ]
     },
     "execution_count": 24,
     "metadata": {},
     "output_type": "execute_result"
    }
   ],
   "source": [
    "y_predicted_new = [max(i,epsilon) for i in y_predicted]\n",
    "y_predicted_new"
   ]
  },
  {
   "cell_type": "code",
   "execution_count": 26,
   "id": "aaf7764a-36d9-4304-9b41-7e439b8f0a0b",
   "metadata": {},
   "outputs": [
    {
     "data": {
      "text/plain": [
       "0.999999999999999"
      ]
     },
     "execution_count": 26,
     "metadata": {},
     "output_type": "execute_result"
    }
   ],
   "source": [
    "1-epsilon"
   ]
  },
  {
   "cell_type": "code",
   "execution_count": 27,
   "id": "b1158f6f-c077-402f-9371-f010126b8cb6",
   "metadata": {},
   "outputs": [
    {
     "data": {
      "text/plain": [
       "[0.999999999999999, 0.999999999999999, 1e-15, 1e-15, 0.999999999999999]"
      ]
     },
     "execution_count": 27,
     "metadata": {},
     "output_type": "execute_result"
    }
   ],
   "source": [
    "y_predicted_new = [min(i,1-epsilon) for i in y_predicted_new]\n",
    "y_predicted_new"
   ]
  },
  {
   "cell_type": "code",
   "execution_count": 28,
   "id": "985355c1-2a12-428f-b2c9-b61857915563",
   "metadata": {},
   "outputs": [],
   "source": [
    "y_predicted_new = np.array(y_predicted_new)"
   ]
  },
  {
   "cell_type": "code",
   "execution_count": 29,
   "id": "8eb05f66-f5d1-480e-a829-7bfce6d08f12",
   "metadata": {},
   "outputs": [
    {
     "data": {
      "text/plain": [
       "array([-9.99200722e-16, -9.99200722e-16, -3.45387764e+01, -3.45387764e+01,\n",
       "       -9.99200722e-16])"
      ]
     },
     "execution_count": 29,
     "metadata": {},
     "output_type": "execute_result"
    }
   ],
   "source": [
    "np.log(y_predicted_new)"
   ]
  },
  {
   "cell_type": "code",
   "execution_count": 30,
   "id": "36378eb0-d290-403e-82a0-b5e6f473136e",
   "metadata": {},
   "outputs": [
    {
     "data": {
      "text/plain": [
       "17.2696280766844"
      ]
     },
     "execution_count": 30,
     "metadata": {},
     "output_type": "execute_result"
    }
   ],
   "source": [
    "-np.mean(y_true*np.log(y_predicted_new)+(1-y_true)*np.log(1-y_predicted_new))"
   ]
  },
  {
   "cell_type": "code",
   "execution_count": 31,
   "id": "fac03149-f08a-4e78-8b5b-7b352cc908aa",
   "metadata": {},
   "outputs": [],
   "source": [
    "def log_loss(y_true, y_predicted):\n",
    "    y_predicted_new = [max(i,epsilon) for i in y_predicted]\n",
    "    y_predicted_new = [min(i,1-epsilon) for i in y_predicted_new]\n",
    "    y_predicted_new = np.array(y_predicted_new)\n",
    "    return -np.mean(y_true*np.log(y_predicted_new)+(1-y_true)*np.log(1-y_predicted_new))"
   ]
  },
  {
   "cell_type": "code",
   "execution_count": 32,
   "id": "67dfc28f-92ff-44ba-b934-b9912acc86b8",
   "metadata": {},
   "outputs": [
    {
     "data": {
      "text/plain": [
       "17.2696280766844"
      ]
     },
     "execution_count": 32,
     "metadata": {},
     "output_type": "execute_result"
    }
   ],
   "source": [
    "log_loss(y_true, y_predicted)"
   ]
  },
  {
   "cell_type": "code",
   "execution_count": null,
   "id": "d7dcaa1c-b9b3-41f6-b3e7-fa27b7a453a9",
   "metadata": {},
   "outputs": [],
   "source": []
  }
 ],
 "metadata": {
  "kernelspec": {
   "display_name": "Python 3 (ipykernel)",
   "language": "python",
   "name": "python3"
  },
  "language_info": {
   "codemirror_mode": {
    "name": "ipython",
    "version": 3
   },
   "file_extension": ".py",
   "mimetype": "text/x-python",
   "name": "python",
   "nbconvert_exporter": "python",
   "pygments_lexer": "ipython3",
   "version": "3.12.7"
  }
 },
 "nbformat": 4,
 "nbformat_minor": 5
}
